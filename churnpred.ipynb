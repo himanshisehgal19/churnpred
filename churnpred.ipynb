{
 "cells": [
  {
   "cell_type": "code",
   "execution_count": 1,
   "metadata": {},
   "outputs": [],
   "source": [
    "import numpy as np\n",
    "import matplotlib.pyplot as plt\n",
    "import pandas as pd"
   ]
  },
  {
   "cell_type": "code",
   "execution_count": 2,
   "metadata": {},
   "outputs": [],
   "source": [
    "dataset = pd.read_csv('Churn_Modelling.csv')\n",
    "X = dataset.iloc[:, 3:13]\n",
    "y = dataset.iloc[:, 13]\n"
   ]
  },
  {
   "cell_type": "code",
   "execution_count": 3,
   "metadata": {},
   "outputs": [],
   "source": [
    "geography=pd.get_dummies(X[\"Geography\"],drop_first=True)\n",
    "gender=pd.get_dummies(X['Gender'],drop_first=True)"
   ]
  },
  {
   "cell_type": "code",
   "execution_count": 4,
   "metadata": {},
   "outputs": [],
   "source": [
    "X=pd.concat([X,geography,gender],axis=1)"
   ]
  },
  {
   "cell_type": "code",
   "execution_count": 5,
   "metadata": {},
   "outputs": [],
   "source": [
    "X=X.drop(['Geography','Gender'],axis=1)"
   ]
  },
  {
   "cell_type": "code",
   "execution_count": 6,
   "metadata": {},
   "outputs": [],
   "source": [
    "from sklearn.model_selection import train_test_split\n",
    "X_train, X_test, y_train, y_test = train_test_split(X, y, test_size = 0.2, random_state = 0)"
   ]
  },
  {
   "cell_type": "code",
   "execution_count": 7,
   "metadata": {},
   "outputs": [],
   "source": [
    "from sklearn.preprocessing import StandardScaler\n",
    "sc = StandardScaler()\n",
    "X_train = sc.fit_transform(X_train)\n",
    "X_test = sc.transform(X_test)"
   ]
  },
  {
   "cell_type": "markdown",
   "metadata": {},
   "source": [
    "# ANN"
   ]
  },
  {
   "cell_type": "code",
   "execution_count": 8,
   "metadata": {},
   "outputs": [
    {
     "name": "stderr",
     "output_type": "stream",
     "text": [
      "Using TensorFlow backend.\n"
     ]
    }
   ],
   "source": [
    "import keras\n",
    "from keras.models import Sequential\n",
    "from keras.layers import Dense\n",
    "from keras.layers import LeakyReLU,PReLU,ELU\n",
    "from keras.layers import Dropout"
   ]
  },
  {
   "cell_type": "code",
   "execution_count": 9,
   "metadata": {},
   "outputs": [],
   "source": [
    "# Initialising the ANN\n",
    "classifier = Sequential()"
   ]
  },
  {
   "cell_type": "code",
   "execution_count": 10,
   "metadata": {},
   "outputs": [
    {
     "name": "stderr",
     "output_type": "stream",
     "text": [
      "C:\\Users\\user\\anaconda3\\envs\\tensorflow_env\\lib\\site-packages\\ipykernel_launcher.py:2: UserWarning: Update your `Dense` call to the Keras 2 API: `Dense(activation=\"relu\", input_dim=11, units=6, kernel_initializer=\"he_uniform\")`\n",
      "  \n"
     ]
    }
   ],
   "source": [
    "\n",
    "# Adding the input layer and the first hidden layer\n",
    "classifier.add(Dense(output_dim = 6, init = 'he_uniform',activation='relu',input_dim = 11))"
   ]
  },
  {
   "cell_type": "code",
   "execution_count": 11,
   "metadata": {},
   "outputs": [
    {
     "name": "stderr",
     "output_type": "stream",
     "text": [
      "C:\\Users\\user\\anaconda3\\envs\\tensorflow_env\\lib\\site-packages\\ipykernel_launcher.py:2: UserWarning: Update your `Dense` call to the Keras 2 API: `Dense(activation=\"relu\", units=6, kernel_initializer=\"he_uniform\")`\n",
      "  \n"
     ]
    }
   ],
   "source": [
    "# Adding the second hidden layer\n",
    "classifier.add(Dense(output_dim = 6, init = 'he_uniform',activation='relu'))"
   ]
  },
  {
   "cell_type": "code",
   "execution_count": 12,
   "metadata": {},
   "outputs": [
    {
     "name": "stderr",
     "output_type": "stream",
     "text": [
      "C:\\Users\\user\\anaconda3\\envs\\tensorflow_env\\lib\\site-packages\\ipykernel_launcher.py:2: UserWarning: Update your `Dense` call to the Keras 2 API: `Dense(activation=\"sigmoid\", units=1, kernel_initializer=\"glorot_uniform\")`\n",
      "  \n"
     ]
    }
   ],
   "source": [
    "# Adding the output layer\n",
    "classifier.add(Dense(output_dim = 1, init = 'glorot_uniform', activation = 'sigmoid'))"
   ]
  },
  {
   "cell_type": "code",
   "execution_count": 13,
   "metadata": {},
   "outputs": [],
   "source": [
    "\n",
    "classifier.compile(optimizer = 'Adamax', loss = 'binary_crossentropy', metrics = ['accuracy'])"
   ]
  },
  {
   "cell_type": "code",
   "execution_count": 14,
   "metadata": {},
   "outputs": [
    {
     "name": "stderr",
     "output_type": "stream",
     "text": [
      "C:\\Users\\user\\anaconda3\\envs\\tensorflow_env\\lib\\site-packages\\ipykernel_launcher.py:2: UserWarning: The `nb_epoch` argument in `fit` has been renamed `epochs`.\n",
      "  \n"
     ]
    },
    {
     "name": "stdout",
     "output_type": "stream",
     "text": [
      "Train on 5359 samples, validate on 2641 samples\n",
      "Epoch 1/100\n",
      "5359/5359 [==============================] - 1s 267us/step - loss: 0.5690 - accuracy: 0.7626 - val_loss: 0.4915 - val_accuracy: 0.7955\n",
      "Epoch 2/100\n",
      "5359/5359 [==============================] - 1s 250us/step - loss: 0.4684 - accuracy: 0.7992 - val_loss: 0.4557 - val_accuracy: 0.8054\n",
      "Epoch 3/100\n",
      "5359/5359 [==============================] - 1s 221us/step - loss: 0.4446 - accuracy: 0.8061 - val_loss: 0.4403 - val_accuracy: 0.8069\n",
      "Epoch 4/100\n",
      "5359/5359 [==============================] - 1s 216us/step - loss: 0.4324 - accuracy: 0.8102 - val_loss: 0.4310 - val_accuracy: 0.8080\n",
      "Epoch 5/100\n",
      "5359/5359 [==============================] - 1s 240us/step - loss: 0.4247 - accuracy: 0.8130 - val_loss: 0.4255 - val_accuracy: 0.8099\n",
      "Epoch 6/100\n",
      "5359/5359 [==============================] - 1s 213us/step - loss: 0.4196 - accuracy: 0.8164 - val_loss: 0.4217 - val_accuracy: 0.8114\n",
      "Epoch 7/100\n",
      "5359/5359 [==============================] - 1s 234us/step - loss: 0.4155 - accuracy: 0.8169 - val_loss: 0.4190 - val_accuracy: 0.8167\n",
      "Epoch 8/100\n",
      "5359/5359 [==============================] - 1s 218us/step - loss: 0.4115 - accuracy: 0.8220 - val_loss: 0.4161 - val_accuracy: 0.8194\n",
      "Epoch 9/100\n",
      "5359/5359 [==============================] - 1s 199us/step - loss: 0.4082 - accuracy: 0.8233 - val_loss: 0.4131 - val_accuracy: 0.8217\n",
      "Epoch 10/100\n",
      "5359/5359 [==============================] - 1s 255us/step - loss: 0.4052 - accuracy: 0.8244 - val_loss: 0.4108 - val_accuracy: 0.8205\n",
      "Epoch 11/100\n",
      "5359/5359 [==============================] - 1s 247us/step - loss: 0.4024 - accuracy: 0.8250 - val_loss: 0.4081 - val_accuracy: 0.8232\n",
      "Epoch 12/100\n",
      "5359/5359 [==============================] - 1s 275us/step - loss: 0.3997 - accuracy: 0.8261 - val_loss: 0.4067 - val_accuracy: 0.8224\n",
      "Epoch 13/100\n",
      "5359/5359 [==============================] - 1s 218us/step - loss: 0.3970 - accuracy: 0.8285 - val_loss: 0.4041 - val_accuracy: 0.8243\n",
      "Epoch 14/100\n",
      "5359/5359 [==============================] - 1s 227us/step - loss: 0.3945 - accuracy: 0.8280 - val_loss: 0.4021 - val_accuracy: 0.8258\n",
      "Epoch 15/100\n",
      "5359/5359 [==============================] - 1s 212us/step - loss: 0.3919 - accuracy: 0.8302 - val_loss: 0.3995 - val_accuracy: 0.8228\n",
      "Epoch 16/100\n",
      "5359/5359 [==============================] - 1s 207us/step - loss: 0.3891 - accuracy: 0.8302 - val_loss: 0.3980 - val_accuracy: 0.8251\n",
      "Epoch 17/100\n",
      "5359/5359 [==============================] - 1s 222us/step - loss: 0.3871 - accuracy: 0.8294 - val_loss: 0.3952 - val_accuracy: 0.8258\n",
      "Epoch 18/100\n",
      "5359/5359 [==============================] - 1s 269us/step - loss: 0.3845 - accuracy: 0.8287 - val_loss: 0.3927 - val_accuracy: 0.8266\n",
      "Epoch 19/100\n",
      "5359/5359 [==============================] - 1s 240us/step - loss: 0.3820 - accuracy: 0.8294 - val_loss: 0.3914 - val_accuracy: 0.8270\n",
      "Epoch 20/100\n",
      "5359/5359 [==============================] - 1s 245us/step - loss: 0.3798 - accuracy: 0.8313 - val_loss: 0.3897 - val_accuracy: 0.8289\n",
      "Epoch 21/100\n",
      "5359/5359 [==============================] - 1s 233us/step - loss: 0.3776 - accuracy: 0.8349 - val_loss: 0.3878 - val_accuracy: 0.8379\n",
      "Epoch 22/100\n",
      "5359/5359 [==============================] - 1s 225us/step - loss: 0.3757 - accuracy: 0.8412 - val_loss: 0.3860 - val_accuracy: 0.8391\n",
      "Epoch 23/100\n",
      "5359/5359 [==============================] - 1s 214us/step - loss: 0.3732 - accuracy: 0.8421 - val_loss: 0.3851 - val_accuracy: 0.8395\n",
      "Epoch 24/100\n",
      "5359/5359 [==============================] - 1s 218us/step - loss: 0.3714 - accuracy: 0.8427 - val_loss: 0.3837 - val_accuracy: 0.8410\n",
      "Epoch 25/100\n",
      "5359/5359 [==============================] - 1s 219us/step - loss: 0.3694 - accuracy: 0.8431 - val_loss: 0.3821 - val_accuracy: 0.8429\n",
      "Epoch 26/100\n",
      "5359/5359 [==============================] - 1s 216us/step - loss: 0.3673 - accuracy: 0.8447 - val_loss: 0.3816 - val_accuracy: 0.8440\n",
      "Epoch 27/100\n",
      "5359/5359 [==============================] - 1s 217us/step - loss: 0.3656 - accuracy: 0.8489 - val_loss: 0.3802 - val_accuracy: 0.8455\n",
      "Epoch 28/100\n",
      "5359/5359 [==============================] - 1s 214us/step - loss: 0.3640 - accuracy: 0.8498 - val_loss: 0.3791 - val_accuracy: 0.8444\n",
      "Epoch 29/100\n",
      "5359/5359 [==============================] - 1s 216us/step - loss: 0.3622 - accuracy: 0.8485 - val_loss: 0.3776 - val_accuracy: 0.8444\n",
      "Epoch 30/100\n",
      "5359/5359 [==============================] - 1s 231us/step - loss: 0.3607 - accuracy: 0.8498 - val_loss: 0.3769 - val_accuracy: 0.8463\n",
      "Epoch 31/100\n",
      "5359/5359 [==============================] - 1s 262us/step - loss: 0.3597 - accuracy: 0.8509 - val_loss: 0.3753 - val_accuracy: 0.8455\n",
      "Epoch 32/100\n",
      "5359/5359 [==============================] - 1s 218us/step - loss: 0.3578 - accuracy: 0.8509 - val_loss: 0.3742 - val_accuracy: 0.8466\n",
      "Epoch 33/100\n",
      "5359/5359 [==============================] - 1s 222us/step - loss: 0.3560 - accuracy: 0.8526 - val_loss: 0.3731 - val_accuracy: 0.8485\n",
      "Epoch 34/100\n",
      "5359/5359 [==============================] - 1s 215us/step - loss: 0.3545 - accuracy: 0.8531 - val_loss: 0.3728 - val_accuracy: 0.8478\n",
      "Epoch 35/100\n",
      "5359/5359 [==============================] - 1s 227us/step - loss: 0.3533 - accuracy: 0.8554 - val_loss: 0.3723 - val_accuracy: 0.8485\n",
      "Epoch 36/100\n",
      "5359/5359 [==============================] - 1s 268us/step - loss: 0.3517 - accuracy: 0.8567 - val_loss: 0.3714 - val_accuracy: 0.8482\n",
      "Epoch 37/100\n",
      "5359/5359 [==============================] - 1s 272us/step - loss: 0.3505 - accuracy: 0.8567 - val_loss: 0.3707 - val_accuracy: 0.8519\n",
      "Epoch 38/100\n",
      "5359/5359 [==============================] - 1s 254us/step - loss: 0.3491 - accuracy: 0.8567 - val_loss: 0.3700 - val_accuracy: 0.8516\n",
      "Epoch 39/100\n",
      "5359/5359 [==============================] - 1s 236us/step - loss: 0.3480 - accuracy: 0.8563 - val_loss: 0.3696 - val_accuracy: 0.8504\n",
      "Epoch 40/100\n",
      "5359/5359 [==============================] - 1s 276us/step - loss: 0.3471 - accuracy: 0.8582 - val_loss: 0.3693 - val_accuracy: 0.8523\n",
      "Epoch 41/100\n",
      "5359/5359 [==============================] - 1s 234us/step - loss: 0.3459 - accuracy: 0.8593 - val_loss: 0.3693 - val_accuracy: 0.8519\n",
      "Epoch 42/100\n",
      "5359/5359 [==============================] - 1s 267us/step - loss: 0.3453 - accuracy: 0.8586 - val_loss: 0.3688 - val_accuracy: 0.8523\n",
      "Epoch 43/100\n",
      "5359/5359 [==============================] - 1s 206us/step - loss: 0.3445 - accuracy: 0.8610 - val_loss: 0.3690 - val_accuracy: 0.8508\n",
      "Epoch 44/100\n",
      "5359/5359 [==============================] - 1s 229us/step - loss: 0.3431 - accuracy: 0.8589 - val_loss: 0.3699 - val_accuracy: 0.8519\n",
      "Epoch 45/100\n",
      "5359/5359 [==============================] - 1s 214us/step - loss: 0.3431 - accuracy: 0.8584 - val_loss: 0.3682 - val_accuracy: 0.8531\n",
      "Epoch 46/100\n",
      "5359/5359 [==============================] - 1s 213us/step - loss: 0.3423 - accuracy: 0.8602 - val_loss: 0.3686 - val_accuracy: 0.8519\n",
      "Epoch 47/100\n",
      "5359/5359 [==============================] - 1s 259us/step - loss: 0.3419 - accuracy: 0.8587 - val_loss: 0.3685 - val_accuracy: 0.8516\n",
      "Epoch 48/100\n",
      "5359/5359 [==============================] - 1s 241us/step - loss: 0.3414 - accuracy: 0.8619 - val_loss: 0.3678 - val_accuracy: 0.8523\n",
      "Epoch 49/100\n",
      "5359/5359 [==============================] - 1s 238us/step - loss: 0.3407 - accuracy: 0.8614 - val_loss: 0.3680 - val_accuracy: 0.8531\n",
      "Epoch 50/100\n",
      "5359/5359 [==============================] - 1s 264us/step - loss: 0.3406 - accuracy: 0.8599 - val_loss: 0.3675 - val_accuracy: 0.8527\n",
      "Epoch 51/100\n",
      "5359/5359 [==============================] - 1s 213us/step - loss: 0.3403 - accuracy: 0.8614 - val_loss: 0.3676 - val_accuracy: 0.8527\n",
      "Epoch 52/100\n",
      "5359/5359 [==============================] - 1s 203us/step - loss: 0.3398 - accuracy: 0.8619 - val_loss: 0.3679 - val_accuracy: 0.8512\n",
      "Epoch 53/100\n",
      "5359/5359 [==============================] - 1s 209us/step - loss: 0.3394 - accuracy: 0.8617 - val_loss: 0.3675 - val_accuracy: 0.8535\n",
      "Epoch 54/100\n",
      "5359/5359 [==============================] - 1s 215us/step - loss: 0.3392 - accuracy: 0.8608 - val_loss: 0.3684 - val_accuracy: 0.8519\n",
      "Epoch 55/100\n",
      "5359/5359 [==============================] - 1s 210us/step - loss: 0.3389 - accuracy: 0.8623 - val_loss: 0.3673 - val_accuracy: 0.8527\n",
      "Epoch 56/100\n"
     ]
    },
    {
     "name": "stdout",
     "output_type": "stream",
     "text": [
      "5359/5359 [==============================] - 1s 253us/step - loss: 0.3387 - accuracy: 0.8587 - val_loss: 0.3675 - val_accuracy: 0.8516\n",
      "Epoch 57/100\n",
      "5359/5359 [==============================] - 1s 217us/step - loss: 0.3388 - accuracy: 0.8627 - val_loss: 0.3670 - val_accuracy: 0.8527\n",
      "Epoch 58/100\n",
      "5359/5359 [==============================] - 1s 207us/step - loss: 0.3383 - accuracy: 0.8628 - val_loss: 0.3679 - val_accuracy: 0.8535\n",
      "Epoch 59/100\n",
      "5359/5359 [==============================] - 1s 211us/step - loss: 0.3383 - accuracy: 0.8595 - val_loss: 0.3679 - val_accuracy: 0.8508\n",
      "Epoch 60/100\n",
      "5359/5359 [==============================] - 1s 253us/step - loss: 0.3381 - accuracy: 0.8602 - val_loss: 0.3673 - val_accuracy: 0.8527\n",
      "Epoch 61/100\n",
      "5359/5359 [==============================] - 1s 232us/step - loss: 0.3379 - accuracy: 0.8614 - val_loss: 0.3668 - val_accuracy: 0.8519\n",
      "Epoch 62/100\n",
      "5359/5359 [==============================] - 1s 237us/step - loss: 0.3378 - accuracy: 0.8610 - val_loss: 0.3675 - val_accuracy: 0.8535\n",
      "Epoch 63/100\n",
      "5359/5359 [==============================] - 1s 252us/step - loss: 0.3377 - accuracy: 0.8614 - val_loss: 0.3670 - val_accuracy: 0.8512\n",
      "Epoch 64/100\n",
      "5359/5359 [==============================] - 1s 209us/step - loss: 0.3377 - accuracy: 0.8612 - val_loss: 0.3667 - val_accuracy: 0.8538\n",
      "Epoch 65/100\n",
      "5359/5359 [==============================] - 1s 221us/step - loss: 0.3376 - accuracy: 0.8628 - val_loss: 0.3673 - val_accuracy: 0.8523\n",
      "Epoch 66/100\n",
      "5359/5359 [==============================] - 1s 231us/step - loss: 0.3373 - accuracy: 0.8612 - val_loss: 0.3674 - val_accuracy: 0.8531\n",
      "Epoch 67/100\n",
      "5359/5359 [==============================] - 2s 299us/step - loss: 0.3373 - accuracy: 0.8623 - val_loss: 0.3666 - val_accuracy: 0.8527\n",
      "Epoch 68/100\n",
      "5359/5359 [==============================] - 1s 216us/step - loss: 0.3368 - accuracy: 0.8614 - val_loss: 0.3673 - val_accuracy: 0.8504\n",
      "Epoch 69/100\n",
      "5359/5359 [==============================] - 1s 228us/step - loss: 0.3368 - accuracy: 0.8619 - val_loss: 0.3672 - val_accuracy: 0.8501\n",
      "Epoch 70/100\n",
      "5359/5359 [==============================] - 1s 245us/step - loss: 0.3367 - accuracy: 0.8621 - val_loss: 0.3673 - val_accuracy: 0.8531\n",
      "Epoch 71/100\n",
      "5359/5359 [==============================] - 1s 205us/step - loss: 0.3366 - accuracy: 0.8617 - val_loss: 0.3668 - val_accuracy: 0.8538\n",
      "Epoch 72/100\n",
      "5359/5359 [==============================] - 1s 224us/step - loss: 0.3366 - accuracy: 0.8628 - val_loss: 0.3664 - val_accuracy: 0.8531\n",
      "Epoch 73/100\n",
      "5359/5359 [==============================] - 1s 229us/step - loss: 0.3368 - accuracy: 0.8615 - val_loss: 0.3671 - val_accuracy: 0.8527\n",
      "Epoch 74/100\n",
      "5359/5359 [==============================] - 1s 228us/step - loss: 0.3362 - accuracy: 0.8604 - val_loss: 0.3671 - val_accuracy: 0.8523\n",
      "Epoch 75/100\n",
      "5359/5359 [==============================] - 1s 212us/step - loss: 0.3362 - accuracy: 0.8627 - val_loss: 0.3671 - val_accuracy: 0.8523\n",
      "Epoch 76/100\n",
      "5359/5359 [==============================] - 1s 225us/step - loss: 0.3360 - accuracy: 0.8617 - val_loss: 0.3665 - val_accuracy: 0.8542\n",
      "Epoch 77/100\n",
      "5359/5359 [==============================] - 1s 222us/step - loss: 0.3356 - accuracy: 0.8623 - val_loss: 0.3663 - val_accuracy: 0.8542\n",
      "Epoch 78/100\n",
      "5359/5359 [==============================] - 1s 227us/step - loss: 0.3358 - accuracy: 0.8615 - val_loss: 0.3658 - val_accuracy: 0.8561\n",
      "Epoch 79/100\n",
      "5359/5359 [==============================] - 1s 231us/step - loss: 0.3357 - accuracy: 0.8625 - val_loss: 0.3661 - val_accuracy: 0.8542\n",
      "Epoch 80/100\n",
      "5359/5359 [==============================] - 1s 223us/step - loss: 0.3354 - accuracy: 0.8625 - val_loss: 0.3665 - val_accuracy: 0.8538\n",
      "Epoch 81/100\n",
      "5359/5359 [==============================] - 1s 248us/step - loss: 0.3355 - accuracy: 0.8619 - val_loss: 0.3662 - val_accuracy: 0.8497\n",
      "Epoch 82/100\n",
      "5359/5359 [==============================] - 1s 219us/step - loss: 0.3350 - accuracy: 0.8638 - val_loss: 0.3672 - val_accuracy: 0.8493\n",
      "Epoch 83/100\n",
      "5359/5359 [==============================] - 1s 206us/step - loss: 0.3351 - accuracy: 0.8623 - val_loss: 0.3663 - val_accuracy: 0.8542\n",
      "Epoch 84/100\n",
      "5359/5359 [==============================] - 1s 243us/step - loss: 0.3349 - accuracy: 0.8632 - val_loss: 0.3656 - val_accuracy: 0.8546\n",
      "Epoch 85/100\n",
      "5359/5359 [==============================] - 1s 226us/step - loss: 0.3348 - accuracy: 0.8625 - val_loss: 0.3652 - val_accuracy: 0.8554\n",
      "Epoch 86/100\n",
      "5359/5359 [==============================] - 1s 219us/step - loss: 0.3346 - accuracy: 0.8645 - val_loss: 0.3652 - val_accuracy: 0.8542\n",
      "Epoch 87/100\n",
      "5359/5359 [==============================] - 1s 255us/step - loss: 0.3345 - accuracy: 0.8628 - val_loss: 0.3650 - val_accuracy: 0.8542\n",
      "Epoch 88/100\n",
      "5359/5359 [==============================] - 1s 251us/step - loss: 0.3342 - accuracy: 0.8642 - val_loss: 0.3665 - val_accuracy: 0.8523\n",
      "Epoch 89/100\n",
      "5359/5359 [==============================] - 1s 264us/step - loss: 0.3342 - accuracy: 0.8632 - val_loss: 0.3659 - val_accuracy: 0.8542\n",
      "Epoch 90/100\n",
      "5359/5359 [==============================] - 1s 232us/step - loss: 0.3339 - accuracy: 0.8627 - val_loss: 0.3655 - val_accuracy: 0.8538\n",
      "Epoch 91/100\n",
      "5359/5359 [==============================] - 1s 226us/step - loss: 0.3341 - accuracy: 0.8625 - val_loss: 0.3655 - val_accuracy: 0.8546\n",
      "Epoch 92/100\n",
      "5359/5359 [==============================] - 1s 224us/step - loss: 0.3338 - accuracy: 0.8640 - val_loss: 0.3653 - val_accuracy: 0.8523\n",
      "Epoch 93/100\n",
      "5359/5359 [==============================] - 1s 215us/step - loss: 0.3334 - accuracy: 0.8651 - val_loss: 0.3664 - val_accuracy: 0.8535\n",
      "Epoch 94/100\n",
      "5359/5359 [==============================] - 1s 215us/step - loss: 0.3336 - accuracy: 0.8642 - val_loss: 0.3650 - val_accuracy: 0.8535\n",
      "Epoch 95/100\n",
      "5359/5359 [==============================] - 1s 218us/step - loss: 0.3332 - accuracy: 0.8632 - val_loss: 0.3641 - val_accuracy: 0.8576\n",
      "Epoch 96/100\n",
      "5359/5359 [==============================] - 1s 214us/step - loss: 0.3330 - accuracy: 0.8656 - val_loss: 0.3659 - val_accuracy: 0.8535\n",
      "Epoch 97/100\n",
      "5359/5359 [==============================] - 1s 218us/step - loss: 0.3334 - accuracy: 0.8636 - val_loss: 0.3649 - val_accuracy: 0.8531\n",
      "Epoch 98/100\n",
      "5359/5359 [==============================] - 1s 227us/step - loss: 0.3331 - accuracy: 0.8627 - val_loss: 0.3641 - val_accuracy: 0.8542\n",
      "Epoch 99/100\n",
      "5359/5359 [==============================] - 1s 241us/step - loss: 0.3330 - accuracy: 0.8632 - val_loss: 0.3641 - val_accuracy: 0.8569\n",
      "Epoch 100/100\n",
      "5359/5359 [==============================] - 1s 224us/step - loss: 0.3330 - accuracy: 0.8615 - val_loss: 0.3633 - val_accuracy: 0.8542\n"
     ]
    }
   ],
   "source": [
    "# Fitting the ANN to the Training set\n",
    "model_history=classifier.fit(X_train, y_train,validation_split=0.33, batch_size = 10, nb_epoch = 100)"
   ]
  },
  {
   "cell_type": "code",
   "execution_count": 16,
   "metadata": {},
   "outputs": [
    {
     "name": "stdout",
     "output_type": "stream",
     "text": [
      "dict_keys(['val_loss', 'val_accuracy', 'loss', 'accuracy'])\n"
     ]
    },
    {
     "data": {
      "image/png": "[encoded data removed]",
      "text/plain": [
       "<Figure size 432x288 with 1 Axes>"
      ]
     },
     "metadata": {
      "needs_background": "light"
     },
     "output_type": "display_data"
    }
   ],
   "source": [
    "print(model_history.history.keys())\n",
    "# summarize history for accuracy\n",
    "plt.plot(model_history.history['accuracy'])\n",
    "plt.plot(model_history.history['val_accuracy'])\n",
    "plt.title('model accuracy')\n",
    "plt.ylabel('accuracy')\n",
    "plt.xlabel('epoch')\n",
    "plt.legend(['train', 'test'], loc='upper left')\n",
    "plt.show()"
   ]
  },
  {
   "cell_type": "code",
   "execution_count": 17,
   "metadata": {},
   "outputs": [
    {
     "data": {
      "image/png": "[encoded data removed]",
      "text/plain": [
       "<Figure size 432x288 with 1 Axes>"
      ]
     },
     "metadata": {
      "needs_background": "light"
     },
     "output_type": "display_data"
    }
   ],
   "source": [
    "# summarize history for loss\n",
    "plt.plot(model_history.history['loss'])\n",
    "plt.plot(model_history.history['val_loss'])\n",
    "plt.title('model loss')\n",
    "plt.ylabel('loss')\n",
    "plt.xlabel('epoch')\n",
    "plt.legend(['train', 'test'], loc='upper left')\n",
    "plt.show()"
   ]
  },
  {
   "cell_type": "markdown",
   "metadata": {},
   "source": [
    "# Making the predictions and evaluating the model"
   ]
  },
  {
   "cell_type": "code",
   "execution_count": 18,
   "metadata": {},
   "outputs": [],
   "source": [
    "\n",
    "# Predicting the Test set results\n",
    "y_pred = classifier.predict(X_test)\n",
    "y_pred = (y_pred > 0.5)"
   ]
  },
  {
   "cell_type": "code",
   "execution_count": 19,
   "metadata": {},
   "outputs": [],
   "source": [
    "# Making the Confusion Matrix\n",
    "from sklearn.metrics import confusion_matrix\n",
    "cm = confusion_matrix(y_test, y_pred)"
   ]
  },
  {
   "cell_type": "code",
   "execution_count": 20,
   "metadata": {},
   "outputs": [],
   "source": [
    "# Calculate the Accuracy\n",
    "from sklearn.metrics import accuracy_score\n",
    "score=accuracy_score(y_pred,y_test)\n"
   ]
  },
  {
   "cell_type": "code",
   "execution_count": 21,
   "metadata": {},
   "outputs": [
    {
     "data": {
      "text/plain": [
       "0.8595"
      ]
     },
     "execution_count": 21,
     "metadata": {},
     "output_type": "execute_result"
    }
   ],
   "source": [
    "score"
   ]
  },
  {
   "cell_type": "code",
   "execution_count": null,
   "metadata": {},
   "outputs": [],
   "source": []
  },
  {
   "cell_type": "code",
   "execution_count": 23,
   "metadata": {},
   "outputs": [
    {
     "data": {
      "text/html": [
       "<div>\n",
       "<style scoped>\n",
       "    .dataframe tbody tr th:only-of-type {\n",
       "        vertical-align: middle;\n",
       "    }\n",
       "\n",
       "    .dataframe tbody tr th {\n",
       "        vertical-align: top;\n",
       "    }\n",
       "\n",
       "    .dataframe thead th {\n",
       "        text-align: right;\n",
       "    }\n",
       "</style>\n",
       "<table border=\"1\" class=\"dataframe\">\n",
       "  <thead>\n",
       "    <tr style=\"text-align: right;\">\n",
       "      <th></th>\n",
       "      <th>CreditScore</th>\n",
       "      <th>Age</th>\n",
       "      <th>Tenure</th>\n",
       "      <th>Balance</th>\n",
       "      <th>NumOfProducts</th>\n",
       "      <th>HasCrCard</th>\n",
       "      <th>IsActiveMember</th>\n",
       "      <th>EstimatedSalary</th>\n",
       "      <th>Germany</th>\n",
       "      <th>Spain</th>\n",
       "      <th>Male</th>\n",
       "    </tr>\n",
       "  </thead>\n",
       "  <tbody>\n",
       "    <tr>\n",
       "      <th>0</th>\n",
       "      <td>619</td>\n",
       "      <td>42</td>\n",
       "      <td>2</td>\n",
       "      <td>0.00</td>\n",
       "      <td>1</td>\n",
       "      <td>1</td>\n",
       "      <td>1</td>\n",
       "      <td>101348.88</td>\n",
       "      <td>0</td>\n",
       "      <td>0</td>\n",
       "      <td>0</td>\n",
       "    </tr>\n",
       "    <tr>\n",
       "      <th>1</th>\n",
       "      <td>608</td>\n",
       "      <td>41</td>\n",
       "      <td>1</td>\n",
       "      <td>83807.86</td>\n",
       "      <td>1</td>\n",
       "      <td>0</td>\n",
       "      <td>1</td>\n",
       "      <td>112542.58</td>\n",
       "      <td>0</td>\n",
       "      <td>1</td>\n",
       "      <td>0</td>\n",
       "    </tr>\n",
       "    <tr>\n",
       "      <th>2</th>\n",
       "      <td>502</td>\n",
       "      <td>42</td>\n",
       "      <td>8</td>\n",
       "      <td>159660.80</td>\n",
       "      <td>3</td>\n",
       "      <td>1</td>\n",
       "      <td>0</td>\n",
       "      <td>113931.57</td>\n",
       "      <td>0</td>\n",
       "      <td>0</td>\n",
       "      <td>0</td>\n",
       "    </tr>\n",
       "    <tr>\n",
       "      <th>3</th>\n",
       "      <td>699</td>\n",
       "      <td>39</td>\n",
       "      <td>1</td>\n",
       "      <td>0.00</td>\n",
       "      <td>2</td>\n",
       "      <td>0</td>\n",
       "      <td>0</td>\n",
       "      <td>93826.63</td>\n",
       "      <td>0</td>\n",
       "      <td>0</td>\n",
       "      <td>0</td>\n",
       "    </tr>\n",
       "    <tr>\n",
       "      <th>4</th>\n",
       "      <td>850</td>\n",
       "      <td>43</td>\n",
       "      <td>2</td>\n",
       "      <td>125510.82</td>\n",
       "      <td>1</td>\n",
       "      <td>1</td>\n",
       "      <td>1</td>\n",
       "      <td>79084.10</td>\n",
       "      <td>0</td>\n",
       "      <td>1</td>\n",
       "      <td>0</td>\n",
       "    </tr>\n",
       "    <tr>\n",
       "      <th>...</th>\n",
       "      <td>...</td>\n",
       "      <td>...</td>\n",
       "      <td>...</td>\n",
       "      <td>...</td>\n",
       "      <td>...</td>\n",
       "      <td>...</td>\n",
       "      <td>...</td>\n",
       "      <td>...</td>\n",
       "      <td>...</td>\n",
       "      <td>...</td>\n",
       "      <td>...</td>\n",
       "    </tr>\n",
       "    <tr>\n",
       "      <th>9995</th>\n",
       "      <td>771</td>\n",
       "      <td>39</td>\n",
       "      <td>5</td>\n",
       "      <td>0.00</td>\n",
       "      <td>2</td>\n",
       "      <td>1</td>\n",
       "      <td>0</td>\n",
       "      <td>96270.64</td>\n",
       "      <td>0</td>\n",
       "      <td>0</td>\n",
       "      <td>1</td>\n",
       "    </tr>\n",
       "    <tr>\n",
       "      <th>9996</th>\n",
       "      <td>516</td>\n",
       "      <td>35</td>\n",
       "      <td>10</td>\n",
       "      <td>57369.61</td>\n",
       "      <td>1</td>\n",
       "      <td>1</td>\n",
       "      <td>1</td>\n",
       "      <td>101699.77</td>\n",
       "      <td>0</td>\n",
       "      <td>0</td>\n",
       "      <td>1</td>\n",
       "    </tr>\n",
       "    <tr>\n",
       "      <th>9997</th>\n",
       "      <td>709</td>\n",
       "      <td>36</td>\n",
       "      <td>7</td>\n",
       "      <td>0.00</td>\n",
       "      <td>1</td>\n",
       "      <td>0</td>\n",
       "      <td>1</td>\n",
       "      <td>42085.58</td>\n",
       "      <td>0</td>\n",
       "      <td>0</td>\n",
       "      <td>0</td>\n",
       "    </tr>\n",
       "    <tr>\n",
       "      <th>9998</th>\n",
       "      <td>772</td>\n",
       "      <td>42</td>\n",
       "      <td>3</td>\n",
       "      <td>75075.31</td>\n",
       "      <td>2</td>\n",
       "      <td>1</td>\n",
       "      <td>0</td>\n",
       "      <td>92888.52</td>\n",
       "      <td>1</td>\n",
       "      <td>0</td>\n",
       "      <td>1</td>\n",
       "    </tr>\n",
       "    <tr>\n",
       "      <th>9999</th>\n",
       "      <td>792</td>\n",
       "      <td>28</td>\n",
       "      <td>4</td>\n",
       "      <td>130142.79</td>\n",
       "      <td>1</td>\n",
       "      <td>1</td>\n",
       "      <td>0</td>\n",
       "      <td>38190.78</td>\n",
       "      <td>0</td>\n",
       "      <td>0</td>\n",
       "      <td>0</td>\n",
       "    </tr>\n",
       "  </tbody>\n",
       "</table>\n",
       "<p>10000 rows × 11 columns</p>\n",
       "</div>"
      ],
      "text/plain": [
       "      CreditScore  Age  Tenure    Balance  NumOfProducts  HasCrCard  \\\n",
       "0             619   42       2       0.00              1          1   \n",
       "1             608   41       1   83807.86              1          0   \n",
       "2             502   42       8  159660.80              3          1   \n",
       "3             699   39       1       0.00              2          0   \n",
       "4             850   43       2  125510.82              1          1   \n",
       "...           ...  ...     ...        ...            ...        ...   \n",
       "9995          771   39       5       0.00              2          1   \n",
       "9996          516   35      10   57369.61              1          1   \n",
       "9997          709   36       7       0.00              1          0   \n",
       "9998          772   42       3   75075.31              2          1   \n",
       "9999          792   28       4  130142.79              1          1   \n",
       "\n",
       "      IsActiveMember  EstimatedSalary  Germany  Spain  Male  \n",
       "0                  1        101348.88        0      0     0  \n",
       "1                  1        112542.58        0      1     0  \n",
       "2                  0        113931.57        0      0     0  \n",
       "3                  0         93826.63        0      0     0  \n",
       "4                  1         79084.10        0      1     0  \n",
       "...              ...              ...      ...    ...   ...  \n",
       "9995               0         96270.64        0      0     1  \n",
       "9996               1        101699.77        0      0     1  \n",
       "9997               1         42085.58        0      0     0  \n",
       "9998               0         92888.52        1      0     1  \n",
       "9999               0         38190.78        0      0     0  \n",
       "\n",
       "[10000 rows x 11 columns]"
      ]
     },
     "execution_count": 23,
     "metadata": {},
     "output_type": "execute_result"
    }
   ],
   "source": [
    "X"
   ]
  },
  {
   "cell_type": "code",
   "execution_count": 30,
   "metadata": {},
   "outputs": [],
   "source": [
    "li=[619,42,2,0.00,1,1,1,101348.88,0,0,0]\n",
    "li=np.array(li)\n",
    "lir=li.reshape(1,-1)\n",
    "#lix=sc.transform(li)"
   ]
  },
  {
   "cell_type": "code",
   "execution_count": 31,
   "metadata": {},
   "outputs": [
    {
     "data": {
      "text/plain": [
       "array([[6.1900000e+02, 4.2000000e+01, 2.0000000e+00, 0.0000000e+00,\n",
       "        1.0000000e+00, 1.0000000e+00, 1.0000000e+00, 1.0134888e+05,\n",
       "        0.0000000e+00, 0.0000000e+00, 0.0000000e+00]])"
      ]
     },
     "execution_count": 31,
     "metadata": {},
     "output_type": "execute_result"
    }
   ],
   "source": [
    "lir"
   ]
  },
  {
   "cell_type": "code",
   "execution_count": 32,
   "metadata": {},
   "outputs": [],
   "source": [
    "lix=sc.transform(lir)"
   ]
  },
  {
   "cell_type": "code",
   "execution_count": 33,
   "metadata": {},
   "outputs": [],
   "source": [
    "y_predict = classifier.predict(lix)"
   ]
  },
  {
   "cell_type": "code",
   "execution_count": 39,
   "metadata": {},
   "outputs": [
    {
     "data": {
      "text/plain": [
       "numpy.ndarray"
      ]
     },
     "execution_count": 39,
     "metadata": {},
     "output_type": "execute_result"
    }
   ],
   "source": [
    "y_predict=y_predict>0.5\n",
    "type(y_predict)"
   ]
  },
  {
   "cell_type": "code",
   "execution_count": 40,
   "metadata": {},
   "outputs": [
    {
     "data": {
      "text/plain": [
       "numpy.ndarray"
      ]
     },
     "execution_count": 40,
     "metadata": {},
     "output_type": "execute_result"
    }
   ],
   "source": [
    "type(y_pred)"
   ]
  },
  {
   "cell_type": "code",
   "execution_count": 41,
   "metadata": {},
   "outputs": [],
   "source": [
    "import joblib"
   ]
  },
  {
   "cell_type": "code",
   "execution_count": 42,
   "metadata": {},
   "outputs": [
    {
     "data": {
      "text/plain": [
       "['model.pkl']"
      ]
     },
     "execution_count": 42,
     "metadata": {},
     "output_type": "execute_result"
    }
   ],
   "source": [
    "joblib.dump(classifier,\"model.pkl\")"
   ]
  },
  {
   "cell_type": "code",
   "execution_count": 43,
   "metadata": {},
   "outputs": [],
   "source": [
    "m=joblib.load(\"model.pkl\")"
   ]
  },
  {
   "cell_type": "code",
   "execution_count": 44,
   "metadata": {},
   "outputs": [],
   "source": [
    "var1=0\n",
    "var2=0\n",
    "var3=0\n",
    "var4=0\n",
    "var5=0\n",
    "var6=0\n",
    "var7=0\n",
    "var8=0\n",
    "var9=0\n",
    "var10=0\n",
    "var11=0"
   ]
  },
  {
   "cell_type": "code",
   "execution_count": 64,
   "metadata": {},
   "outputs": [],
   "source": [
    "liz=[619,42,2,0.00,1,1,1,101.88,0,0,0]\n",
    "liz=np.array(liz)\n",
    "lizr=liz.reshape(1,-1)"
   ]
  },
  {
   "cell_type": "code",
   "execution_count": 57,
   "metadata": {},
   "outputs": [],
   "source": [
    "x=m.predict([lir])\n",
    "y=m.predict([lizr])"
   ]
  },
  {
   "cell_type": "code",
   "execution_count": 65,
   "metadata": {},
   "outputs": [
    {
     "data": {
      "text/plain": [
       "array([[0.10559713]], dtype=float32)"
      ]
     },
     "execution_count": 65,
     "metadata": {},
     "output_type": "execute_result"
    }
   ],
   "source": [
    "lizr=sc.fit_transform(lizr)\n",
    "y=m.predict([lizr])\n",
    "y"
   ]
  },
  {
   "cell_type": "code",
   "execution_count": 50,
   "metadata": {},
   "outputs": [
    {
     "data": {
      "text/plain": [
       "array([[7.826896e-33]], dtype=float32)"
      ]
     },
     "execution_count": 50,
     "metadata": {},
     "output_type": "execute_result"
    }
   ],
   "source": [
    "x"
   ]
  },
  {
   "cell_type": "code",
   "execution_count": 51,
   "metadata": {},
   "outputs": [
    {
     "name": "stdout",
     "output_type": "stream",
     "text": [
      "[[7.826896e-33]]\n"
     ]
    }
   ],
   "source": [
    "print(x)"
   ]
  },
  {
   "cell_type": "code",
   "execution_count": 54,
   "metadata": {},
   "outputs": [],
   "source": [
    "y=classifier.predict(lix)"
   ]
  },
  {
   "cell_type": "code",
   "execution_count": 55,
   "metadata": {},
   "outputs": [
    {
     "data": {
      "text/plain": [
       "array([[0.39756975]], dtype=float32)"
      ]
     },
     "execution_count": 55,
     "metadata": {},
     "output_type": "execute_result"
    }
   ],
   "source": [
    "y"
   ]
  },
  {
   "cell_type": "code",
   "execution_count": 68,
   "metadata": {},
   "outputs": [
    {
     "data": {
      "text/plain": [
       "7389    0\n",
       "9275    0\n",
       "2995    0\n",
       "5316    0\n",
       "356     0\n",
       "       ..\n",
       "9225    0\n",
       "4859    0\n",
       "3264    0\n",
       "9845    0\n",
       "2732    1\n",
       "Name: Exited, Length: 8000, dtype: int64"
      ]
     },
     "execution_count": 68,
     "metadata": {},
     "output_type": "execute_result"
    }
   ],
   "source": [
    "y_train"
   ]
  },
  {
   "cell_type": "code",
   "execution_count": null,
   "metadata": {},
   "outputs": [],
   "source": []
  }
 ],
 "metadata": {
  "kernelspec": {
   "display_name": "Python 3",
   "language": "python",
   "name": "python3"
  },
  "language_info": {
   "codemirror_mode": {
    "name": "ipython",
    "version": 3
   },
   "file_extension": ".py",
   "mimetype": "text/x-python",
   "name": "python",
   "nbconvert_exporter": "python",
   "pygments_lexer": "ipython3",
   "version": "3.7.9"
  }
 },
 "nbformat": 4,
 "nbformat_minor": 4
}
